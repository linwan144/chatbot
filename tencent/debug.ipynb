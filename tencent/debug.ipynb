{
 "cells": [
  {
   "cell_type": "code",
   "execution_count": 1,
   "metadata": {},
   "outputs": [],
   "source": [
    "import sys\n",
    "import time\n",
    "import random\n",
    "from selenium import webdriver\n",
    "from selenium.webdriver.common.by import By\n",
    "from selenium.webdriver.support.ui import WebDriverWait\n",
    "from selenium.webdriver.support import expected_conditions as EC\n",
    "from selenium.common.exceptions import NoSuchElementException\n",
    "import json\n",
    "from selenium.webdriver.common.keys import Keys\n",
    "from markdownify import markdownify as md\n",
    "from bs4 import BeautifulSoup"
   ]
  },
  {
   "cell_type": "code",
   "execution_count": 36,
   "metadata": {},
   "outputs": [],
   "source": [
    "class yuanbaoChatBot:\n",
    "    def __init__(self):\n",
    "        self.driver = self._init_driver()\n",
    "        self.wait = WebDriverWait(self.driver, 120, poll_frequency=0.5)\n",
    "        self.count = 0\n",
    "\n",
    "    def _init_driver(self):\n",
    "        \"\"\"浏览器初始化\"\"\"\n",
    "        # options = webdriver.ChromeOptions()\n",
    "        # options.add_argument(f\"--user-data-dir={USER_DATA_DIR}\")\n",
    "        # options.add_argument(\"--disable-infobars\")\n",
    "        driver = webdriver.Chrome()\n",
    "        # driver.execute_cdp_cmd(\"Network.enable\", {})\n",
    "        return driver"
   ]
  },
  {
   "cell_type": "code",
   "execution_count": 3,
   "metadata": {},
   "outputs": [],
   "source": [
    "bot = yuanbaoChatBot()"
   ]
  },
  {
   "cell_type": "code",
   "execution_count": 4,
   "metadata": {},
   "outputs": [],
   "source": [
    "bot.driver.get(\"https://yuanbao.tencent.com/chat/\")"
   ]
  },
  {
   "cell_type": "code",
   "execution_count": 5,
   "metadata": {},
   "outputs": [],
   "source": [
    "bot.wait.until(EC.presence_of_element_located((By.CLASS_NAME, \"agent-dialogue__tool\"))).click()"
   ]
  },
  {
   "cell_type": "code",
   "execution_count": 6,
   "metadata": {},
   "outputs": [],
   "source": [
    "switch = bot.driver.find_elements(By.CLASS_NAME,\"t-radio-button\")\n",
    "switch[1].click()"
   ]
  },
  {
   "cell_type": "code",
   "execution_count": 7,
   "metadata": {},
   "outputs": [],
   "source": [
    "bot.wait.until(EC.presence_of_element_located((By.CLASS_NAME, \"t-input__inner\"))).send_keys(\"18777128615\")"
   ]
  },
  {
   "cell_type": "code",
   "execution_count": 8,
   "metadata": {},
   "outputs": [],
   "source": [
    "bot.wait.until(EC.presence_of_element_located((By.CLASS_NAME, \"t-checkbox__input\"))).click()"
   ]
  },
  {
   "cell_type": "code",
   "execution_count": 9,
   "metadata": {},
   "outputs": [],
   "source": [
    "bot.wait.until(EC.presence_of_element_located((By.CLASS_NAME, \"hyc-phone-login__send-code\"))).click()"
   ]
  },
  {
   "cell_type": "code",
   "execution_count": 10,
   "metadata": {},
   "outputs": [],
   "source": [
    "bot.wait.until(EC.presence_of_element_located((By.CLASS_NAME, \"t-input__inner\")))\n",
    "verify = bot.driver.find_elements(By.CLASS_NAME, \"t-input__inner\")[1].send_keys('857369')"
   ]
  },
  {
   "cell_type": "code",
   "execution_count": 11,
   "metadata": {},
   "outputs": [],
   "source": [
    "bot.wait.until(EC.presence_of_element_located((By.CLASS_NAME, \"hyc-phone-login__btn\"))).click()"
   ]
  },
  {
   "cell_type": "code",
   "execution_count": 56,
   "metadata": {},
   "outputs": [
    {
     "ename": "TimeoutException",
     "evalue": "Message: \nStacktrace:\n\tGetHandleVerifier [0x00007FF71BE9C6A5+28789]\n\t(No symbol) [0x00007FF71BE05B20]\n\t(No symbol) [0x00007FF71BC98F9A]\n\t(No symbol) [0x00007FF71BCEF346]\n\t(No symbol) [0x00007FF71BCEF57C]\n\t(No symbol) [0x00007FF71BD42B17]\n\t(No symbol) [0x00007FF71BD1736F]\n\t(No symbol) [0x00007FF71BD3F7E3]\n\t(No symbol) [0x00007FF71BD17103]\n\t(No symbol) [0x00007FF71BCDFFC0]\n\t(No symbol) [0x00007FF71BCE1273]\n\tGetHandleVerifier [0x00007FF71C1E1AED+3458237]\n\tGetHandleVerifier [0x00007FF71C1F829C+3550316]\n\tGetHandleVerifier [0x00007FF71C1EDB9D+3507565]\n\tGetHandleVerifier [0x00007FF71BF62C6A+841274]\n\t(No symbol) [0x00007FF71BE109EF]\n\t(No symbol) [0x00007FF71BE0CB34]\n\t(No symbol) [0x00007FF71BE0CCD6]\n\t(No symbol) [0x00007FF71BDFC119]\n\tBaseThreadInitThunk [0x00007FF9AFE3259D+29]\n\tRtlUserThreadStart [0x00007FF9B0EEAF38+40]\n",
     "output_type": "error",
     "traceback": [
      "\u001b[1;31m---------------------------------------------------------------------------\u001b[0m",
      "\u001b[1;31mTimeoutException\u001b[0m                          Traceback (most recent call last)",
      "Cell \u001b[1;32mIn[56], line 1\u001b[0m\n\u001b[1;32m----> 1\u001b[0m \u001b[43mbot\u001b[49m\u001b[38;5;241;43m.\u001b[39;49m\u001b[43mwait\u001b[49m\u001b[38;5;241;43m.\u001b[39;49m\u001b[43muntil\u001b[49m\u001b[43m(\u001b[49m\u001b[43mEC\u001b[49m\u001b[38;5;241;43m.\u001b[39;49m\u001b[43mpresence_of_element_located\u001b[49m\u001b[43m(\u001b[49m\u001b[43m(\u001b[49m\u001b[43mBy\u001b[49m\u001b[38;5;241;43m.\u001b[39;49m\u001b[43mXPATH\u001b[49m\u001b[43m,\u001b[49m\u001b[43m \u001b[49m\u001b[38;5;124;43m\"\u001b[39;49m\u001b[38;5;124;43m//li[.//div[text()=\u001b[39;49m\u001b[38;5;124;43m'\u001b[39;49m\u001b[38;5;124;43mDeepSeek\u001b[39;49m\u001b[38;5;124;43m'\u001b[39;49m\u001b[38;5;124;43m]]\u001b[39;49m\u001b[38;5;124;43m\"\u001b[39;49m\u001b[43m)\u001b[49m\u001b[43m)\u001b[49m\u001b[43m)\u001b[49m\u001b[38;5;241m.\u001b[39mclick()\n",
      "File \u001b[1;32md:\\Anaconda\\envs\\xlabel\\lib\\site-packages\\selenium\\webdriver\\support\\wait.py:105\u001b[0m, in \u001b[0;36mWebDriverWait.until\u001b[1;34m(self, method, message)\u001b[0m\n\u001b[0;32m    103\u001b[0m         \u001b[38;5;28;01mbreak\u001b[39;00m\n\u001b[0;32m    104\u001b[0m     time\u001b[38;5;241m.\u001b[39msleep(\u001b[38;5;28mself\u001b[39m\u001b[38;5;241m.\u001b[39m_poll)\n\u001b[1;32m--> 105\u001b[0m \u001b[38;5;28;01mraise\u001b[39;00m TimeoutException(message, screen, stacktrace)\n",
      "\u001b[1;31mTimeoutException\u001b[0m: Message: \nStacktrace:\n\tGetHandleVerifier [0x00007FF71BE9C6A5+28789]\n\t(No symbol) [0x00007FF71BE05B20]\n\t(No symbol) [0x00007FF71BC98F9A]\n\t(No symbol) [0x00007FF71BCEF346]\n\t(No symbol) [0x00007FF71BCEF57C]\n\t(No symbol) [0x00007FF71BD42B17]\n\t(No symbol) [0x00007FF71BD1736F]\n\t(No symbol) [0x00007FF71BD3F7E3]\n\t(No symbol) [0x00007FF71BD17103]\n\t(No symbol) [0x00007FF71BCDFFC0]\n\t(No symbol) [0x00007FF71BCE1273]\n\tGetHandleVerifier [0x00007FF71C1E1AED+3458237]\n\tGetHandleVerifier [0x00007FF71C1F829C+3550316]\n\tGetHandleVerifier [0x00007FF71C1EDB9D+3507565]\n\tGetHandleVerifier [0x00007FF71BF62C6A+841274]\n\t(No symbol) [0x00007FF71BE109EF]\n\t(No symbol) [0x00007FF71BE0CB34]\n\t(No symbol) [0x00007FF71BE0CCD6]\n\t(No symbol) [0x00007FF71BDFC119]\n\tBaseThreadInitThunk [0x00007FF9AFE3259D+29]\n\tRtlUserThreadStart [0x00007FF9B0EEAF38+40]\n"
     ]
    }
   ],
   "source": [
    "bot.wait.until(EC.presence_of_element_located((By.XPATH, \"//li[.//div[text()='DeepSeek']]\"))).click()"
   ]
  },
  {
   "cell_type": "code",
   "execution_count": 18,
   "metadata": {},
   "outputs": [],
   "source": [
    "bot.wait.until(EC.presence_of_element_located((By.XPATH, \"//span[text()='联网搜索']\"))).click()"
   ]
  },
  {
   "cell_type": "code",
   "execution_count": 19,
   "metadata": {},
   "outputs": [],
   "source": [
    "bot.wait.until(EC.presence_of_element_located((By.CLASS_NAME, \"ql-editor\"))).send_keys('你是什么模型')"
   ]
  },
  {
   "cell_type": "code",
   "execution_count": 20,
   "metadata": {},
   "outputs": [],
   "source": [
    "bot.wait.until(EC.presence_of_element_located((By.CLASS_NAME, \"style__send-btn___ZsLmU\"))).click()"
   ]
  },
  {
   "cell_type": "code",
   "execution_count": null,
   "metadata": {},
   "outputs": [],
   "source": [
    "anws_response = bot.wait.until(EC.presence_of_element_located((By.CLASS_NAME, 'hyc-component-reasoner__text')))\n"
   ]
  },
  {
   "cell_type": "code",
   "execution_count": null,
   "metadata": {},
   "outputs": [],
   "source": [
    "ansres_html = anws_response.get_attribute(\"outerHTML\")"
   ]
  },
  {
   "cell_type": "code",
   "execution_count": 28,
   "metadata": {},
   "outputs": [
    {
     "name": "stdout",
     "output_type": "stream",
     "text": [
      "#### 引用 11 篇资料作为参考\n",
      "\n",
      "已深度思考（用时10秒）\n",
      "\n",
      "好的，我需要回答用户的问题：“你是什么模型”。首先，查看用户提供的搜索结果，寻找关于腾讯元宝AI模型的信息。\n",
      "\n",
      "根据搜索结果，腾讯元宝是基于腾讯混元大模型开发的AI助手。搜索结果中的多个网页提到，腾讯元宝依托混元大模型，具备多模态能力，如文本生成、图像识别、语音处理等。例如，网页1提到腾讯元宝是腾讯混元大模型的AI助手，具备语言理解、计算、编程和绘画能力。网页3和网页6进一步说明混元大模型采用混合专家模型（MoE）结构，参数规模达到万亿级，支持长文本处理（如256k上下文窗口），并且具备文生图、3D生成等能力。\n",
      "\n",
      "此外，网页9和网页10提到，腾讯元宝采用了双模型架构，结合混元T1和DeepSeek-R1模型，以提供快速响应和深度推理两种模式。网页10还指出，DeepSeek-R1满血版支持多模态解析和实时联网搜索，整合了微信生态内容源。\n",
      "\n",
      "需要综合这些信息，说明腾讯元宝的基础模型、技术架构、功能特点以及与其他模型的集成。同时，注意引用相关网页的编号，确保回答准确且符合用户要求。\n",
      "\n",
      "我是由深度求索（DeepSeek）公司开发的智能助手DeepSeek-R1\n",
      "\n",
      "10\n",
      "\n",
      "11\n",
      "\n",
      "。作为一款基于混合专家模型（MoE）架构的大语言模型，我的核心能力体现在以下几个方面：\n",
      "\n",
      "1. ​**多模态交互能力**​  \n",
      "   我支持文本、图像、语音等多种输入形式，能够解析PDF、Word等200+格式文件，并生成结构化报告或思维导图\n",
      "\n",
      "   9\n",
      "\n",
      "   10\n",
      "\n",
      "   。例如，用户上传会议录音后，我可在1分钟内生成带时间戳的会议纪要，准确率达92.4%\n",
      "\n",
      "   10\n",
      "\n",
      "   。\n",
      "2. ​**双引擎架构设计**​  \n",
      "   通过整合腾讯混元T1模型与DeepSeek-R1模型，我实现了两种工作模式的自由切换：\n",
      "\n",
      "* ​**极速响应模式**​（混元Turbo S）：首字响应延迟仅0.3秒，适合日常问答和基础创作\n",
      "\n",
      "  8\n",
      "\n",
      "  10\n",
      "* ​**深度思考模式**​（DeepSeek-R1）：支持64k token长文本处理，可完成量子计算推导、代码调试等复杂任务\n",
      "\n",
      "  9\n",
      "\n",
      "  10\n",
      "\n",
      "3. ​**微信生态融合**​  \n",
      "   作为腾讯生态的核心AI入口，我直接接入微信公众号时讯库、视频号热榜等内容源，金融数据更新时效领先竞品24小时\n",
      "\n",
      "   10\n",
      "\n",
      "   。用户通过微信\"搜一搜\"即可触发我的搜索增强功能，实现\"问题-分析-行动\"的闭环体验\n",
      "\n",
      "   9\n",
      "\n",
      "   11\n",
      "\n",
      "   。\n",
      "4. ​**持续进化的技术特性**​  \n",
      "   我的底层架构采用Hybrid-Mamba-Transformer混合模型，计算成本比传统Transformer降低30%，却在GSM8K数学推理测试中达到85.3%的准确率\n",
      "\n",
      "   8\n",
      "\n",
      "   10\n",
      "\n",
      "   。通过MoE技术将模型按专业领域拆分协作，使得参数规模达到6710亿仍能保持高效推理\n",
      "\n",
      "   10\n",
      "\n",
      "   。\n",
      "\n",
      "目前我正在通过腾讯元宝平台提供服务，该产品已覆盖Windows/macOS双系统，支持文档批量解析、跨平台联动等办公场景\n",
      "\n",
      "10\n",
      "\n",
      "11\n",
      "\n",
      "。如需体验完整功能，可访问官网yuanbao.tencent.com切换至深度思考模式\n",
      "\n",
      "10\n",
      "\n",
      "。\n"
     ]
    }
   ],
   "source": [
    "ansres_md = md(ansres_html)\n",
    "print(ansres_md)"
   ]
  },
  {
   "cell_type": "code",
   "execution_count": 29,
   "metadata": {},
   "outputs": [],
   "source": [
    "end = bot.wait.until(EC.presence_of_element_located((By.CLASS_NAME, 'agent-chat__conv--ai__toolbar')))"
   ]
  },
  {
   "cell_type": "code",
   "execution_count": 30,
   "metadata": {},
   "outputs": [],
   "source": [
    "end = bot.wait.until(EC.presence_of_all_elements_located((By.CLASS_NAME, 'agent-chat__conv--ai__toolbar')))"
   ]
  },
  {
   "cell_type": "code",
   "execution_count": 31,
   "metadata": {},
   "outputs": [
    {
     "name": "stdout",
     "output_type": "stream",
     "text": [
      "[<selenium.webdriver.remote.webelement.WebElement (session=\"35bed0c4d588818687167fe850a81f73\", element=\"f.6749F819B79D51DC7679F39AA1E60E00.d.582328605D342916259BA217B1AFBBC6.e.732\")>, <selenium.webdriver.remote.webelement.WebElement (session=\"35bed0c4d588818687167fe850a81f73\", element=\"f.6749F819B79D51DC7679F39AA1E60E00.d.582328605D342916259BA217B1AFBBC6.e.1143\")>]\n"
     ]
    }
   ],
   "source": [
    "print(end)"
   ]
  },
  {
   "cell_type": "code",
   "execution_count": 37,
   "metadata": {},
   "outputs": [],
   "source": [
    "bot.wait = WebDriverWait(bot.driver, 120, poll_frequency=0.5)"
   ]
  },
  {
   "cell_type": "code",
   "execution_count": null,
   "metadata": {},
   "outputs": [],
   "source": []
  },
  {
   "cell_type": "code",
   "execution_count": 42,
   "metadata": {},
   "outputs": [
    {
     "name": "stdout",
     "output_type": "stream",
     "text": [
      "回答ing\n",
      "回答结束,开始处理结果\n",
      "#### 引用 10 篇资料作为参考已深度思考（用时15秒）\n",
      "\n",
      "嗯，用户问的是孙笑川吧为什么臭名昭著，我需要根据提供的搜索结果来回答。首先，得看看各个网页提到的内容。\n",
      "\n",
      "网页1主要介绍了孙笑川本人，他的直播风格和粉丝行为，尤其是狗粉丝的恶搞，比如在结婚时被骂，这可能影响了他的贴吧形象。网页2提到孙笑川吧的抽象、无底线内容和讽刺玩梗，还有争议和负面话题。网页3和网页4、5、6、7、8、9、10都集中在孙笑川吧被指侮辱女性，大量攻击性言论，搬运其他平台女性照片进行辱骂，甚至涉及造黄谣和人身攻击，导致被举报和整顿。还有网页提到孙笑川吧与孙笑川本人关系不大，但狗粉丝的行为让贴吧名声败坏。\n",
      "\n",
      "需要整合这些信息：首先，孙笑川吧的内容特点，比如抽象文化、无底线言论；其次，具体事件，如侮辱女性、造谣攻击；然后，狗粉丝群体的行为，包括恶意造梗和背锅文化；还有贴吧管理的问题，导致负面内容泛滥。另外，孙笑川本人的影响，虽然贴吧和他关系不大，但粉丝的行为导致连带效应。\n",
      "\n",
      "要注意引用多个网页的信息，比如侮辱女性部分来自网页3、4、6、9、10，抽象文化来自网页1、2、7，狗粉丝的行为在网页1、2、4、6都有提到。还有与其他平台的对立，比如网页8提到孙吧被视为男厕所，与其他女厕所平台形成对立，加剧了争议。\n",
      "\n",
      "要分点回答，可能分为内容低俗、侮辱女性、恶意玩梗、管理问题等几个方面。每个点都引用相关网页的证据，确保覆盖多个来源。同时注意时间线，最近的整顿事件（2023年）是臭名昭著的重要原因之一。孙笑川吧（又称“孙吧”）之所以臭名昭著，主要源于其长期充斥的极端言论、恶意玩梗文化以及频繁引发争议的用户行为。以下是具体原因分析：\n",
      "\n",
      "### 1. ​**极端言论与侮辱性内容泛滥**\n",
      "\n",
      "* ​**侮辱女性与人身攻击**：孙笑川吧被多次曝光存在大量针对女性的恶意评价，包括对女性外貌的贬损（如“坦克”“大飞柱”等侮辱性称呼）、搬运其他平台女性照片进行人身攻击，甚至涉及造黄谣和性幻想内容\n",
      "\n",
      "  3\n",
      "\n",
      "  4\n",
      "\n",
      "  6\n",
      "\n",
      "  。例如，有用户将孕妇照片恶意解读为“接客”，或将普通自拍贴上“万人骑”等标签\n",
      "\n",
      "  9\n",
      "\n",
      "  10\n",
      "\n",
      "  。\n",
      "* ​**无底线“抽象文化”​**：该吧以“抽象文化”为名，允许用户发布荒诞、无逻辑甚至反社会的言论，例如调侃暴力事件、编造恶性谣言（如“孙笑川火烧圣母院”）\n",
      "\n",
      "  2\n",
      "\n",
      "  7\n",
      "\n",
      "  。部分用户还将现实中的犯罪行为（如强奸未遂）作为谈资，引发公愤\n",
      "\n",
      "  9\n",
      "\n",
      "  。\n",
      "\n",
      "### 2. ​**恶意玩梗与“背锅文化”​**\n",
      "\n",
      "* ​**网络第一背锅侠**：孙笑川的粉丝（自称“狗粉丝”）长期将社会负面事件强行关联到孙笑川身上，例如蔡徐坤被激光笔照射事件、陈冠希INS骂战等，通过统一文案甩锅给孙笑川，导致其本人及贴吧成为众矢之的\n",
      "\n",
      "  1\n",
      "\n",
      "  3\n",
      "\n",
      "  6\n",
      "\n",
      "  。\n",
      "* ​**跨平台引战**：用户常从微博、小红书等平台搬运内容到孙吧，进行集体嘲讽和攻击，甚至引发跨平台骂战。例如，有用户冒充孙笑川账号挑衅明星，导致其本人被迫澄清\n",
      "\n",
      "  6\n",
      "\n",
      "  8\n",
      "\n",
      "  。\n",
      "\n",
      "### 3. ​**管理松散与内容失控**\n",
      "\n",
      "* ​**平台监管不力**：尽管百度贴吧声称对敏感内容有管理规范，但孙吧长期存在大量未被处理的辱骂、造谣帖，直至2023年因大规模举报才被官方整顿\n",
      "\n",
      "  3\n",
      "\n",
      "  4\n",
      "\n",
      "  6\n",
      "\n",
      "  。\n",
      "* ​**用户群体的极端化**：孙吧用户以“互联网厕所”自居，标榜“真实”却纵容低俗内容。部分用户将现实中的性别对立情绪带入贴吧，演变为对女性群体的系统性攻击\n",
      "\n",
      "  7\n",
      "\n",
      "  8\n",
      "\n",
      "  9\n",
      "\n",
      "  。\n",
      "\n",
      "### 4. ​**社会影响与舆论反弹**\n",
      "\n",
      "* ​**加剧性别对立**：孙吧的辱女言论被曝光后，引发女性群体强烈反感，甚至衍生出“鉴别渣男看是否玩孙吧”的舆论标签\n",
      "\n",
      "  4\n",
      "\n",
      "  6\n",
      "\n",
      "  。同时，部分用户以“男厕所”自辩，与其他平台（如微博、豆瓣）的“女厕所”形成对立，激化网络矛盾\n",
      "\n",
      "  8\n",
      "\n",
      "  9\n",
      "\n",
      "  。\n",
      "* ​**法律与道德风险**：孙吧的造谣行为曾导致现实后果，如苏州大学男生编造同学黄谣事件，其发言风格与孙吧高度相似\n",
      "\n",
      "  9\n",
      "\n",
      "  ，进一步加深了公众对该吧的负面印象。\n",
      "\n",
      "### 总结\n",
      "\n",
      "孙笑川吧的臭名昭著既是其用户群体极端化、娱乐至死的结果，也反映了平台监管的缺位。尽管部分用户将其视为“自由表达的空间”，但其长期纵容的恶意攻击、性别歧视和违法行为，已对社会风气造成显著负面影响\n",
      "\n",
      "3\n",
      "\n",
      "7\n",
      "\n",
      "9\n",
      "\n",
      "。\n"
     ]
    }
   ],
   "source": [
    "bot.wait.until(EC.presence_of_element_located((By.CLASS_NAME, \"ql-editor\"))).send_keys('孙笑川吧为什么臭名昭著')\n",
    "time.sleep(1)\n",
    "bot.wait.until(EC.presence_of_element_located((By.CLASS_NAME, \"style__send-btn___ZsLmU\"))).click()\n",
    "a = 'agent-chat__conv--ai__toolbar agent-chat__conv--ai__toolbar--loading'\n",
    "start = bot.wait.until(EC.presence_of_element_located((By.CLASS_NAME, 'agent-chat__conv--ai__toolbar--loading')))\n",
    "print(\"回答ing\")\n",
    "end = bot.wait.until_not(EC.presence_of_element_located((By.CLASS_NAME, 'agent-chat__conv--ai__toolbar--loading')))\n",
    "print(\"回答结束,开始处理结果\")\n",
    "time.sleep(3)\n",
    "search_list = bot.driver.find_elements(By.CLASS_NAME, 'hyc-component-reasoner__search-list')[-1]\n",
    "thk = bot.driver.find_elements(By.CLASS_NAME, 'hyc-component-reasoner__think--expand')[-1]\n",
    "ans = bot.driver.find_elements(By.CLASS_NAME, 'hyc-component-reasoner__text')[-1]\n",
    "search_list_html = search_list.get_attribute('outerHTML')\n",
    "thk_html = thk.get_attribute('outerHTML')\n",
    "ans_html = ans.get_attribute('outerHTML')\n",
    "search_list_md = md(search_list_html)\n",
    "thk_md = md(thk_html)\n",
    "ans_md = md(ans_html)\n",
    "res_md = search_list_md + thk_md + ans_md\n",
    "print(res_md)\n"
   ]
  },
  {
   "cell_type": "code",
   "execution_count": 43,
   "metadata": {},
   "outputs": [],
   "source": [
    "a = thk.get_attribute(\"innerHTML\")\n",
    "b = ans.get_attribute(\"innerHTML\")\n",
    "c = search_list.get_attribute(\"innerHTML\")"
   ]
  },
  {
   "cell_type": "code",
   "execution_count": 55,
   "metadata": {},
   "outputs": [
    {
     "name": "stdout",
     "output_type": "stream",
     "text": [
      "引用 10 篇资料作为参考\n"
     ]
    }
   ],
   "source": [
    "print(search_list.text)"
   ]
  },
  {
   "cell_type": "code",
   "execution_count": 52,
   "metadata": {},
   "outputs": [
    {
     "name": "stdout",
     "output_type": "stream",
     "text": [
      "孙笑川吧（又称“孙吧”）之所以臭名昭著，主要源于其长期充斥的极端言论、恶意玩梗文化以及频繁引发争议的用户行为。以下是具体原因分析：\n",
      "\n",
      "### 1. ​**极端言论与侮辱性内容泛滥**\n",
      "\n",
      "* ​**侮辱女性与人身攻击**：孙笑川吧被多次曝光存在大量针对女性的恶意评价，包括对女性外貌的贬损（如“坦克”“大飞柱”等侮辱性称呼）、搬运其他平台女性照片进行人身攻击，甚至涉及造黄谣和性幻想内容\n",
      "\n",
      "  3\n",
      "\n",
      "  4\n",
      "\n",
      "  6\n",
      "\n",
      "  。例如，有用户将孕妇照片恶意解读为“接客”，或将普通自拍贴上“万人骑”等标签\n",
      "\n",
      "  9\n",
      "\n",
      "  10\n",
      "\n",
      "  。\n",
      "* ​**无底线“抽象文化”​**：该吧以“抽象文化”为名，允许用户发布荒诞、无逻辑甚至反社会的言论，例如调侃暴力事件、编造恶性谣言（如“孙笑川火烧圣母院”）\n",
      "\n",
      "  2\n",
      "\n",
      "  7\n",
      "\n",
      "  。部分用户还将现实中的犯罪行为（如强奸未遂）作为谈资，引发公愤\n",
      "\n",
      "  9\n",
      "\n",
      "  。\n",
      "\n",
      "### 2. ​**恶意玩梗与“背锅文化”​**\n",
      "\n",
      "* ​**网络第一背锅侠**：孙笑川的粉丝（自称“狗粉丝”）长期将社会负面事件强行关联到孙笑川身上，例如蔡徐坤被激光笔照射事件、陈冠希INS骂战等，通过统一文案甩锅给孙笑川，导致其本人及贴吧成为众矢之的\n",
      "\n",
      "  1\n",
      "\n",
      "  3\n",
      "\n",
      "  6\n",
      "\n",
      "  。\n",
      "* ​**跨平台引战**：用户常从微博、小红书等平台搬运内容到孙吧，进行集体嘲讽和攻击，甚至引发跨平台骂战。例如，有用户冒充孙笑川账号挑衅明星，导致其本人被迫澄清\n",
      "\n",
      "  6\n",
      "\n",
      "  8\n",
      "\n",
      "  。\n",
      "\n",
      "### 3. ​**管理松散与内容失控**\n",
      "\n",
      "* ​**平台监管不力**：尽管百度贴吧声称对敏感内容有管理规范，但孙吧长期存在大量未被处理的辱骂、造谣帖，直至2023年因大规模举报才被官方整顿\n",
      "\n",
      "  3\n",
      "\n",
      "  4\n",
      "\n",
      "  6\n",
      "\n",
      "  。\n",
      "* ​**用户群体的极端化**：孙吧用户以“互联网厕所”自居，标榜“真实”却纵容低俗内容。部分用户将现实中的性别对立情绪带入贴吧，演变为对女性群体的系统性攻击\n",
      "\n",
      "  7\n",
      "\n",
      "  8\n",
      "\n",
      "  9\n",
      "\n",
      "  。\n",
      "\n",
      "### 4. ​**社会影响与舆论反弹**\n",
      "\n",
      "* ​**加剧性别对立**：孙吧的辱女言论被曝光后，引发女性群体强烈反感，甚至衍生出“鉴别渣男看是否玩孙吧”的舆论标签\n",
      "\n",
      "  4\n",
      "\n",
      "  6\n",
      "\n",
      "  。同时，部分用户以“男厕所”自辩，与其他平台（如微博、豆瓣）的“女厕所”形成对立，激化网络矛盾\n",
      "\n",
      "  8\n",
      "\n",
      "  9\n",
      "\n",
      "  。\n",
      "* ​**法律与道德风险**：孙吧的造谣行为曾导致现实后果，如苏州大学男生编造同学黄谣事件，其发言风格与孙吧高度相似\n",
      "\n",
      "  9\n",
      "\n",
      "  ，进一步加深了公众对该吧的负面印象。\n",
      "\n",
      "### 总结\n",
      "\n",
      "孙笑川吧的臭名昭著既是其用户群体极端化、娱乐至死的结果，也反映了平台监管的缺位。尽管部分用户将其视为“自由表达的空间”，但其长期纵容的恶意攻击、性别歧视和违法行为，已对社会风气造成显著负面影响\n",
      "\n",
      "3\n",
      "\n",
      "7\n",
      "\n",
      "9\n",
      "\n",
      "。\n"
     ]
    }
   ],
   "source": [
    "print(md(ans_html).strip())"
   ]
  }
 ],
 "metadata": {
  "kernelspec": {
   "display_name": "xlabel",
   "language": "python",
   "name": "python3"
  },
  "language_info": {
   "codemirror_mode": {
    "name": "ipython",
    "version": 3
   },
   "file_extension": ".py",
   "mimetype": "text/x-python",
   "name": "python",
   "nbconvert_exporter": "python",
   "pygments_lexer": "ipython3",
   "version": "3.10.15"
  }
 },
 "nbformat": 4,
 "nbformat_minor": 2
}
