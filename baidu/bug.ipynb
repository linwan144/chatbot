{
 "cells": [
  {
   "cell_type": "code",
   "execution_count": null,
   "metadata": {},
   "outputs": [
    {
     "name": "stdout",
     "output_type": "stream",
     "text": [
      "['%王者%']\n",
      "2024-12-29 12:19\n"
     ]
    }
   ],
   "source": [
    "from source.db.dbConnector import get_max_date\n",
    "search_data = \"王者\"\n",
    "param = ['%'+ search_data + '%']\n",
    "print(param)\n",
    "print(get_max_date(param)[0])\n",
    "# print(get_max_date(param)[0])\n",
    "\n",
    "\n",
    "\n"
   ]
  },
  {
   "cell_type": "code",
   "execution_count": 16,
   "metadata": {},
   "outputs": [
    {
     "name": "stdout",
     "output_type": "stream",
     "text": [
      "\"think\": adadsas\n",
      "\n",
      "\"answer\": jhgjgh\n"
     ]
    }
   ],
   "source": [
    "think_md = 'adadsas'\n",
    "answer_md = 'jhgjgh'\n",
    "think = f'''\"think\": {think_md}'''\n",
    "answer = f'''\"answer\": {answer_md}'''\n",
    "res = f'''{think}\\n\\n{answer}'''\n",
    "print(res)"
   ]
  },
  {
   "cell_type": "code",
   "execution_count": null,
   "metadata": {},
   "outputs": [
    {
     "name": "stdout",
     "output_type": "stream",
     "text": [
      "1\n"
     ]
    }
   ],
   "source": [
    "a = {\"a\":\"2\",\n",
    "     \"b\":\"3\"}\n",
    "print(len(a))"
   ]
  }
 ],
 "metadata": {
  "kernelspec": {
   "display_name": "xlabel",
   "language": "python",
   "name": "python3"
  },
  "language_info": {
   "codemirror_mode": {
    "name": "ipython",
    "version": 3
   },
   "file_extension": ".py",
   "mimetype": "text/x-python",
   "name": "python",
   "nbconvert_exporter": "python",
   "pygments_lexer": "ipython3",
   "version": "3.10.15"
  }
 },
 "nbformat": 4,
 "nbformat_minor": 2
}
